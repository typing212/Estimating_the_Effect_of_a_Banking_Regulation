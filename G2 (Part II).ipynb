{
 "cells": [
  {
   "cell_type": "code",
   "execution_count": 89,
   "id": "894725a5",
   "metadata": {
    "ExecuteTime": {
     "end_time": "2021-10-17T09:04:04.984497Z",
     "start_time": "2021-10-17T09:04:04.961558Z"
    }
   },
   "outputs": [],
   "source": [
    "%config Completer.use_jedi = False\n",
    "\n",
    "import warnings\n",
    "warnings.simplefilter(\"ignore\")"
   ]
  },
  {
   "cell_type": "markdown",
   "id": "16af8048",
   "metadata": {},
   "source": [
    "# Input ALL Data"
   ]
  },
  {
   "cell_type": "code",
   "execution_count": 90,
   "id": "1f5c03d0",
   "metadata": {
    "ExecuteTime": {
     "end_time": "2021-10-17T09:04:04.999458Z",
     "start_time": "2021-10-17T09:04:04.987487Z"
    }
   },
   "outputs": [],
   "source": [
    "import pandas as pd\n",
    "import numpy as np"
   ]
  },
  {
   "cell_type": "code",
   "execution_count": 91,
   "id": "fa156404",
   "metadata": {
    "ExecuteTime": {
     "end_time": "2021-10-17T09:04:05.142643Z",
     "start_time": "2021-10-17T09:04:05.002449Z"
    }
   },
   "outputs": [
    {
     "data": {
      "text/html": [
       "<div>\n",
       "<style scoped>\n",
       "    .dataframe tbody tr th:only-of-type {\n",
       "        vertical-align: middle;\n",
       "    }\n",
       "\n",
       "    .dataframe tbody tr th {\n",
       "        vertical-align: top;\n",
       "    }\n",
       "\n",
       "    .dataframe thead th {\n",
       "        text-align: right;\n",
       "    }\n",
       "</style>\n",
       "<table border=\"1\" class=\"dataframe\">\n",
       "  <thead>\n",
       "    <tr style=\"text-align: right;\">\n",
       "      <th></th>\n",
       "      <th>rssd9001</th>\n",
       "      <th>rssd9999</th>\n",
       "      <th>bhc_avgtradingratio</th>\n",
       "      <th>treat_3_b_avg</th>\n",
       "      <th>after_DFA_1</th>\n",
       "      <th>dep_roa1</th>\n",
       "      <th>dep_leverage</th>\n",
       "      <th>dep_lnassets</th>\n",
       "      <th>dep_creditrisk_total3</th>\n",
       "      <th>dep_cir</th>\n",
       "      <th>dep_depositratio</th>\n",
       "      <th>dep_loans_REratio</th>\n",
       "      <th>dep_liquidity</th>\n",
       "      <th>dep_cpp_bankquarter</th>\n",
       "    </tr>\n",
       "  </thead>\n",
       "  <tbody>\n",
       "    <tr>\n",
       "      <th>0</th>\n",
       "      <td>1020180</td>\n",
       "      <td>20040930</td>\n",
       "      <td>0.0</td>\n",
       "      <td>0</td>\n",
       "      <td>0</td>\n",
       "      <td>0.002772</td>\n",
       "      <td>0.081957</td>\n",
       "      <td>15.601202</td>\n",
       "      <td>0.013304</td>\n",
       "      <td>0.463811</td>\n",
       "      <td>0.561805</td>\n",
       "      <td>0.593738</td>\n",
       "      <td>0.024337</td>\n",
       "      <td>0</td>\n",
       "    </tr>\n",
       "    <tr>\n",
       "      <th>1</th>\n",
       "      <td>1020180</td>\n",
       "      <td>20041231</td>\n",
       "      <td>0.0</td>\n",
       "      <td>0</td>\n",
       "      <td>0</td>\n",
       "      <td>0.003045</td>\n",
       "      <td>0.082480</td>\n",
       "      <td>15.630583</td>\n",
       "      <td>0.009732</td>\n",
       "      <td>0.456392</td>\n",
       "      <td>0.557617</td>\n",
       "      <td>0.601763</td>\n",
       "      <td>0.025446</td>\n",
       "      <td>0</td>\n",
       "    </tr>\n",
       "    <tr>\n",
       "      <th>2</th>\n",
       "      <td>1020180</td>\n",
       "      <td>20050331</td>\n",
       "      <td>0.0</td>\n",
       "      <td>0</td>\n",
       "      <td>0</td>\n",
       "      <td>0.002616</td>\n",
       "      <td>0.082074</td>\n",
       "      <td>15.644925</td>\n",
       "      <td>0.011830</td>\n",
       "      <td>0.444011</td>\n",
       "      <td>0.556980</td>\n",
       "      <td>0.600700</td>\n",
       "      <td>0.025153</td>\n",
       "      <td>0</td>\n",
       "    </tr>\n",
       "    <tr>\n",
       "      <th>3</th>\n",
       "      <td>1020180</td>\n",
       "      <td>20050630</td>\n",
       "      <td>0.0</td>\n",
       "      <td>0</td>\n",
       "      <td>0</td>\n",
       "      <td>0.002647</td>\n",
       "      <td>0.081712</td>\n",
       "      <td>15.679702</td>\n",
       "      <td>0.013654</td>\n",
       "      <td>0.433771</td>\n",
       "      <td>0.571642</td>\n",
       "      <td>0.601042</td>\n",
       "      <td>0.023670</td>\n",
       "      <td>0</td>\n",
       "    </tr>\n",
       "    <tr>\n",
       "      <th>4</th>\n",
       "      <td>1020180</td>\n",
       "      <td>20050930</td>\n",
       "      <td>0.0</td>\n",
       "      <td>0</td>\n",
       "      <td>0</td>\n",
       "      <td>0.002867</td>\n",
       "      <td>0.082944</td>\n",
       "      <td>15.661868</td>\n",
       "      <td>0.012456</td>\n",
       "      <td>0.400985</td>\n",
       "      <td>0.577408</td>\n",
       "      <td>0.581438</td>\n",
       "      <td>0.029793</td>\n",
       "      <td>0</td>\n",
       "    </tr>\n",
       "  </tbody>\n",
       "</table>\n",
       "</div>"
      ],
      "text/plain": [
       "   rssd9001  rssd9999  bhc_avgtradingratio  treat_3_b_avg  after_DFA_1  \\\n",
       "0   1020180  20040930                  0.0              0            0   \n",
       "1   1020180  20041231                  0.0              0            0   \n",
       "2   1020180  20050331                  0.0              0            0   \n",
       "3   1020180  20050630                  0.0              0            0   \n",
       "4   1020180  20050930                  0.0              0            0   \n",
       "\n",
       "   dep_roa1  dep_leverage  dep_lnassets  dep_creditrisk_total3   dep_cir  \\\n",
       "0  0.002772      0.081957     15.601202               0.013304  0.463811   \n",
       "1  0.003045      0.082480     15.630583               0.009732  0.456392   \n",
       "2  0.002616      0.082074     15.644925               0.011830  0.444011   \n",
       "3  0.002647      0.081712     15.679702               0.013654  0.433771   \n",
       "4  0.002867      0.082944     15.661868               0.012456  0.400985   \n",
       "\n",
       "   dep_depositratio  dep_loans_REratio  dep_liquidity  dep_cpp_bankquarter  \n",
       "0          0.561805           0.593738       0.024337                    0  \n",
       "1          0.557617           0.601763       0.025446                    0  \n",
       "2          0.556980           0.600700       0.025153                    0  \n",
       "3          0.571642           0.601042       0.023670                    0  \n",
       "4          0.577408           0.581438       0.029793                    0  "
      ]
     },
     "execution_count": 91,
     "metadata": {},
     "output_type": "execute_result"
    }
   ],
   "source": [
    "data = pd.read_csv('E:/NUS_Course/5010Analytics in managerial economics/Grouup Project2/selected-downloads/DiD_data.csv')\n",
    "data.head()"
   ]
  },
  {
   "cell_type": "code",
   "execution_count": 92,
   "id": "c32db2a0",
   "metadata": {
    "ExecuteTime": {
     "end_time": "2021-10-17T09:04:05.174523Z",
     "start_time": "2021-10-17T09:04:05.144628Z"
    }
   },
   "outputs": [
    {
     "name": "stdout",
     "output_type": "stream",
     "text": [
      "<class 'pandas.core.frame.DataFrame'>\n",
      "RangeIndex: 81560 entries, 0 to 81559\n",
      "Data columns (total 14 columns):\n",
      " #   Column                 Non-Null Count  Dtype  \n",
      "---  ------                 --------------  -----  \n",
      " 0   rssd9001               81560 non-null  int64  \n",
      " 1   rssd9999               81560 non-null  int64  \n",
      " 2   bhc_avgtradingratio    41442 non-null  float64\n",
      " 3   treat_3_b_avg          81560 non-null  int64  \n",
      " 4   after_DFA_1            81560 non-null  int64  \n",
      " 5   dep_roa1               56938 non-null  float64\n",
      " 6   dep_leverage           57017 non-null  float64\n",
      " 7   dep_lnassets           61771 non-null  float64\n",
      " 8   dep_creditrisk_total3  44432 non-null  float64\n",
      " 9   dep_cir                42382 non-null  float64\n",
      " 10  dep_depositratio       79172 non-null  float64\n",
      " 11  dep_loans_REratio      44432 non-null  float64\n",
      " 12  dep_liquidity          55159 non-null  float64\n",
      " 13  dep_cpp_bankquarter    81560 non-null  int64  \n",
      "dtypes: float64(9), int64(5)\n",
      "memory usage: 8.7 MB\n"
     ]
    }
   ],
   "source": [
    "data.info()"
   ]
  },
  {
   "cell_type": "code",
   "execution_count": 93,
   "id": "cdc2e123",
   "metadata": {
    "ExecuteTime": {
     "end_time": "2021-10-17T09:04:05.205491Z",
     "start_time": "2021-10-17T09:04:05.178511Z"
    }
   },
   "outputs": [],
   "source": [
    "#找出bhc非空的数据行\n",
    "df_bhc_notnull = data[data['bhc_avgtradingratio'].isnull()==False]"
   ]
  },
  {
   "cell_type": "code",
   "execution_count": 94,
   "id": "7bdcad2a",
   "metadata": {
    "ExecuteTime": {
     "end_time": "2021-10-17T09:04:05.253387Z",
     "start_time": "2021-10-17T09:04:05.207528Z"
    }
   },
   "outputs": [
    {
     "data": {
      "text/html": [
       "<div>\n",
       "<style scoped>\n",
       "    .dataframe tbody tr th:only-of-type {\n",
       "        vertical-align: middle;\n",
       "    }\n",
       "\n",
       "    .dataframe tbody tr th {\n",
       "        vertical-align: top;\n",
       "    }\n",
       "\n",
       "    .dataframe thead th {\n",
       "        text-align: right;\n",
       "    }\n",
       "</style>\n",
       "<table border=\"1\" class=\"dataframe\">\n",
       "  <thead>\n",
       "    <tr style=\"text-align: right;\">\n",
       "      <th></th>\n",
       "      <th>rssd9999</th>\n",
       "      <th>bhc_avgtradingratio</th>\n",
       "      <th>treat_3_b_avg</th>\n",
       "      <th>after_DFA_1</th>\n",
       "      <th>dep_roa1</th>\n",
       "      <th>dep_leverage</th>\n",
       "      <th>dep_lnassets</th>\n",
       "      <th>dep_creditrisk_total3</th>\n",
       "      <th>dep_cir</th>\n",
       "      <th>dep_depositratio</th>\n",
       "      <th>dep_loans_REratio</th>\n",
       "      <th>dep_liquidity</th>\n",
       "      <th>dep_cpp_bankquarter</th>\n",
       "    </tr>\n",
       "    <tr>\n",
       "      <th>rssd9001</th>\n",
       "      <th></th>\n",
       "      <th></th>\n",
       "      <th></th>\n",
       "      <th></th>\n",
       "      <th></th>\n",
       "      <th></th>\n",
       "      <th></th>\n",
       "      <th></th>\n",
       "      <th></th>\n",
       "      <th></th>\n",
       "      <th></th>\n",
       "      <th></th>\n",
       "      <th></th>\n",
       "    </tr>\n",
       "  </thead>\n",
       "  <tbody>\n",
       "    <tr>\n",
       "      <th>1020180</th>\n",
       "      <td>40</td>\n",
       "      <td>40</td>\n",
       "      <td>40</td>\n",
       "      <td>40</td>\n",
       "      <td>40</td>\n",
       "      <td>40</td>\n",
       "      <td>40</td>\n",
       "      <td>40</td>\n",
       "      <td>40</td>\n",
       "      <td>40</td>\n",
       "      <td>40</td>\n",
       "      <td>38</td>\n",
       "      <td>40</td>\n",
       "    </tr>\n",
       "    <tr>\n",
       "      <th>1020201</th>\n",
       "      <td>6</td>\n",
       "      <td>6</td>\n",
       "      <td>6</td>\n",
       "      <td>6</td>\n",
       "      <td>6</td>\n",
       "      <td>6</td>\n",
       "      <td>6</td>\n",
       "      <td>6</td>\n",
       "      <td>6</td>\n",
       "      <td>6</td>\n",
       "      <td>6</td>\n",
       "      <td>6</td>\n",
       "      <td>6</td>\n",
       "    </tr>\n",
       "    <tr>\n",
       "      <th>1020340</th>\n",
       "      <td>25</td>\n",
       "      <td>25</td>\n",
       "      <td>25</td>\n",
       "      <td>25</td>\n",
       "      <td>25</td>\n",
       "      <td>25</td>\n",
       "      <td>25</td>\n",
       "      <td>25</td>\n",
       "      <td>25</td>\n",
       "      <td>25</td>\n",
       "      <td>25</td>\n",
       "      <td>18</td>\n",
       "      <td>25</td>\n",
       "    </tr>\n",
       "    <tr>\n",
       "      <th>1020395</th>\n",
       "      <td>6</td>\n",
       "      <td>6</td>\n",
       "      <td>6</td>\n",
       "      <td>6</td>\n",
       "      <td>6</td>\n",
       "      <td>6</td>\n",
       "      <td>6</td>\n",
       "      <td>6</td>\n",
       "      <td>6</td>\n",
       "      <td>6</td>\n",
       "      <td>6</td>\n",
       "      <td>6</td>\n",
       "      <td>6</td>\n",
       "    </tr>\n",
       "    <tr>\n",
       "      <th>1020582</th>\n",
       "      <td>6</td>\n",
       "      <td>6</td>\n",
       "      <td>6</td>\n",
       "      <td>6</td>\n",
       "      <td>6</td>\n",
       "      <td>6</td>\n",
       "      <td>6</td>\n",
       "      <td>6</td>\n",
       "      <td>6</td>\n",
       "      <td>6</td>\n",
       "      <td>6</td>\n",
       "      <td>6</td>\n",
       "      <td>6</td>\n",
       "    </tr>\n",
       "    <tr>\n",
       "      <th>...</th>\n",
       "      <td>...</td>\n",
       "      <td>...</td>\n",
       "      <td>...</td>\n",
       "      <td>...</td>\n",
       "      <td>...</td>\n",
       "      <td>...</td>\n",
       "      <td>...</td>\n",
       "      <td>...</td>\n",
       "      <td>...</td>\n",
       "      <td>...</td>\n",
       "      <td>...</td>\n",
       "      <td>...</td>\n",
       "      <td>...</td>\n",
       "    </tr>\n",
       "    <tr>\n",
       "      <th>3762457</th>\n",
       "      <td>21</td>\n",
       "      <td>21</td>\n",
       "      <td>21</td>\n",
       "      <td>21</td>\n",
       "      <td>20</td>\n",
       "      <td>21</td>\n",
       "      <td>21</td>\n",
       "      <td>21</td>\n",
       "      <td>20</td>\n",
       "      <td>21</td>\n",
       "      <td>21</td>\n",
       "      <td>19</td>\n",
       "      <td>21</td>\n",
       "    </tr>\n",
       "    <tr>\n",
       "      <th>3803033</th>\n",
       "      <td>17</td>\n",
       "      <td>17</td>\n",
       "      <td>17</td>\n",
       "      <td>17</td>\n",
       "      <td>17</td>\n",
       "      <td>17</td>\n",
       "      <td>17</td>\n",
       "      <td>17</td>\n",
       "      <td>17</td>\n",
       "      <td>17</td>\n",
       "      <td>17</td>\n",
       "      <td>17</td>\n",
       "      <td>17</td>\n",
       "    </tr>\n",
       "    <tr>\n",
       "      <th>3821756</th>\n",
       "      <td>15</td>\n",
       "      <td>15</td>\n",
       "      <td>15</td>\n",
       "      <td>15</td>\n",
       "      <td>15</td>\n",
       "      <td>15</td>\n",
       "      <td>15</td>\n",
       "      <td>15</td>\n",
       "      <td>15</td>\n",
       "      <td>15</td>\n",
       "      <td>15</td>\n",
       "      <td>15</td>\n",
       "      <td>15</td>\n",
       "    </tr>\n",
       "    <tr>\n",
       "      <th>3832583</th>\n",
       "      <td>19</td>\n",
       "      <td>19</td>\n",
       "      <td>19</td>\n",
       "      <td>19</td>\n",
       "      <td>19</td>\n",
       "      <td>19</td>\n",
       "      <td>19</td>\n",
       "      <td>19</td>\n",
       "      <td>19</td>\n",
       "      <td>19</td>\n",
       "      <td>19</td>\n",
       "      <td>17</td>\n",
       "      <td>19</td>\n",
       "    </tr>\n",
       "    <tr>\n",
       "      <th>3836442</th>\n",
       "      <td>1</td>\n",
       "      <td>1</td>\n",
       "      <td>1</td>\n",
       "      <td>1</td>\n",
       "      <td>1</td>\n",
       "      <td>1</td>\n",
       "      <td>1</td>\n",
       "      <td>1</td>\n",
       "      <td>1</td>\n",
       "      <td>1</td>\n",
       "      <td>1</td>\n",
       "      <td>1</td>\n",
       "      <td>1</td>\n",
       "    </tr>\n",
       "  </tbody>\n",
       "</table>\n",
       "<p>2473 rows × 13 columns</p>\n",
       "</div>"
      ],
      "text/plain": [
       "          rssd9999  bhc_avgtradingratio  treat_3_b_avg  after_DFA_1  dep_roa1  \\\n",
       "rssd9001                                                                        \n",
       "1020180         40                   40             40           40        40   \n",
       "1020201          6                    6              6            6         6   \n",
       "1020340         25                   25             25           25        25   \n",
       "1020395          6                    6              6            6         6   \n",
       "1020582          6                    6              6            6         6   \n",
       "...            ...                  ...            ...          ...       ...   \n",
       "3762457         21                   21             21           21        20   \n",
       "3803033         17                   17             17           17        17   \n",
       "3821756         15                   15             15           15        15   \n",
       "3832583         19                   19             19           19        19   \n",
       "3836442          1                    1              1            1         1   \n",
       "\n",
       "          dep_leverage  dep_lnassets  dep_creditrisk_total3  dep_cir  \\\n",
       "rssd9001                                                               \n",
       "1020180             40            40                     40       40   \n",
       "1020201              6             6                      6        6   \n",
       "1020340             25            25                     25       25   \n",
       "1020395              6             6                      6        6   \n",
       "1020582              6             6                      6        6   \n",
       "...                ...           ...                    ...      ...   \n",
       "3762457             21            21                     21       20   \n",
       "3803033             17            17                     17       17   \n",
       "3821756             15            15                     15       15   \n",
       "3832583             19            19                     19       19   \n",
       "3836442              1             1                      1        1   \n",
       "\n",
       "          dep_depositratio  dep_loans_REratio  dep_liquidity  \\\n",
       "rssd9001                                                       \n",
       "1020180                 40                 40             38   \n",
       "1020201                  6                  6              6   \n",
       "1020340                 25                 25             18   \n",
       "1020395                  6                  6              6   \n",
       "1020582                  6                  6              6   \n",
       "...                    ...                ...            ...   \n",
       "3762457                 21                 21             19   \n",
       "3803033                 17                 17             17   \n",
       "3821756                 15                 15             15   \n",
       "3832583                 19                 19             17   \n",
       "3836442                  1                  1              1   \n",
       "\n",
       "          dep_cpp_bankquarter  \n",
       "rssd9001                       \n",
       "1020180                    40  \n",
       "1020201                     6  \n",
       "1020340                    25  \n",
       "1020395                     6  \n",
       "1020582                     6  \n",
       "...                       ...  \n",
       "3762457                    21  \n",
       "3803033                    17  \n",
       "3821756                    15  \n",
       "3832583                    19  \n",
       "3836442                     1  \n",
       "\n",
       "[2473 rows x 13 columns]"
      ]
     },
     "execution_count": 94,
     "metadata": {},
     "output_type": "execute_result"
    }
   ],
   "source": [
    "groupdf = df_bhc_notnull.groupby('rssd9001').agg('count')\n",
    "groupdf"
   ]
  },
  {
   "cell_type": "code",
   "execution_count": 95,
   "id": "caa33841",
   "metadata": {
    "ExecuteTime": {
     "end_time": "2021-10-17T09:04:05.269360Z",
     "start_time": "2021-10-17T09:04:05.255393Z"
    }
   },
   "outputs": [
    {
     "data": {
      "text/plain": [
       "(81560, 14)"
      ]
     },
     "execution_count": 95,
     "metadata": {},
     "output_type": "execute_result"
    }
   ],
   "source": [
    "data.shape"
   ]
  },
  {
   "cell_type": "markdown",
   "id": "b4ecd9a9",
   "metadata": {},
   "source": [
    "# 删除rssd9999<32的数据"
   ]
  },
  {
   "cell_type": "code",
   "execution_count": 96,
   "id": "fed5a2b1",
   "metadata": {
    "ExecuteTime": {
     "end_time": "2021-10-17T09:04:05.285322Z",
     "start_time": "2021-10-17T09:04:05.274334Z"
    }
   },
   "outputs": [],
   "source": [
    "indexdrop = groupdf[groupdf['rssd9999']<32].index"
   ]
  },
  {
   "cell_type": "code",
   "execution_count": 97,
   "id": "4bfd7520",
   "metadata": {
    "ExecuteTime": {
     "end_time": "2021-10-17T09:04:05.332408Z",
     "start_time": "2021-10-17T09:04:05.287315Z"
    }
   },
   "outputs": [],
   "source": [
    "data_rssd999932 = data.drop(data[data['rssd9001'].isin(indexdrop)].index)"
   ]
  },
  {
   "cell_type": "code",
   "execution_count": 106,
   "id": "716a614c",
   "metadata": {
    "ExecuteTime": {
     "end_time": "2021-10-17T09:14:29.916822Z",
     "start_time": "2021-10-17T09:14:29.906811Z"
    }
   },
   "outputs": [
    {
     "data": {
      "text/plain": [
       "(25936, 14)"
      ]
     },
     "execution_count": 106,
     "metadata": {},
     "output_type": "execute_result"
    }
   ],
   "source": [
    "data_rssd999932.shape"
   ]
  },
  {
   "cell_type": "markdown",
   "id": "560041ce",
   "metadata": {},
   "source": [
    "# 继续Groupby，删除小于31的"
   ]
  },
  {
   "cell_type": "code",
   "execution_count": 102,
   "id": "4e7a6b28",
   "metadata": {
    "ExecuteTime": {
     "end_time": "2021-10-17T09:10:24.488218Z",
     "start_time": "2021-10-17T09:10:24.468272Z"
    }
   },
   "outputs": [
    {
     "data": {
      "text/plain": [
       "rssd9999                 32\n",
       "bhc_avgtradingratio      32\n",
       "treat_3_b_avg            32\n",
       "after_DFA_1              32\n",
       "dep_roa1                  0\n",
       "dep_leverage              0\n",
       "dep_lnassets             32\n",
       "dep_creditrisk_total3    32\n",
       "dep_cir                  31\n",
       "dep_depositratio         32\n",
       "dep_loans_REratio        32\n",
       "dep_liquidity            31\n",
       "dep_cpp_bankquarter      32\n",
       "dtype: int64"
      ]
     },
     "execution_count": 102,
     "metadata": {},
     "output_type": "execute_result"
    }
   ],
   "source": [
    "data_rssd999932.groupby('rssd9001').agg('count').min()"
   ]
  },
  {
   "cell_type": "code",
   "execution_count": 100,
   "id": "87611445",
   "metadata": {
    "ExecuteTime": {
     "end_time": "2021-10-17T09:09:26.243565Z",
     "start_time": "2021-10-17T09:09:26.221627Z"
    }
   },
   "outputs": [],
   "source": [
    "groupdf1 = data_rssd999932.groupby('rssd9001').agg('count')"
   ]
  },
  {
   "cell_type": "code",
   "execution_count": 103,
   "id": "564df2a9",
   "metadata": {
    "ExecuteTime": {
     "end_time": "2021-10-17T09:13:33.793248Z",
     "start_time": "2021-10-17T09:13:33.786267Z"
    }
   },
   "outputs": [],
   "source": [
    "indexdrop1 = groupdf1[groupdf1['dep_roa1']<32].index\n",
    "indexdrop2 = groupdf1[groupdf1['dep_leverage']<32].index"
   ]
  },
  {
   "cell_type": "code",
   "execution_count": 109,
   "id": "bb5cf02a",
   "metadata": {
    "ExecuteTime": {
     "end_time": "2021-10-17T09:16:41.769095Z",
     "start_time": "2021-10-17T09:16:41.754135Z"
    }
   },
   "outputs": [
    {
     "data": {
      "text/plain": [
       "Int64Index([], dtype='int64')"
      ]
     },
     "execution_count": 109,
     "metadata": {},
     "output_type": "execute_result"
    }
   ],
   "source": [
    "data_rssd999932[data_rssd999932['dep_roa1'].isin(indexdrop1)].index"
   ]
  },
  {
   "cell_type": "code",
   "execution_count": 110,
   "id": "21e9b548",
   "metadata": {
    "ExecuteTime": {
     "end_time": "2021-10-17T09:17:19.837098Z",
     "start_time": "2021-10-17T09:17:19.820144Z"
    }
   },
   "outputs": [
    {
     "data": {
      "text/plain": [
       "(25900, 14)"
      ]
     },
     "execution_count": 110,
     "metadata": {},
     "output_type": "execute_result"
    }
   ],
   "source": [
    "data0 = data_rssd999932.drop(data_rssd999932[data_rssd999932['rssd9001'].isin(indexdrop1)].index)\n",
    "data1 = data0.drop(data0[data0['rssd9001'].isin(indexdrop2)].index)\n",
    "data1.shape\n",
    "#删除之后的数据是data1"
   ]
  },
  {
   "cell_type": "markdown",
   "id": "ae968a7c",
   "metadata": {},
   "source": [
    "# 填充缺失值"
   ]
  },
  {
   "cell_type": "code",
   "execution_count": 112,
   "id": "93cd8bf3",
   "metadata": {
    "ExecuteTime": {
     "end_time": "2021-10-17T09:25:22.514891Z",
     "start_time": "2021-10-17T09:25:22.495942Z"
    }
   },
   "outputs": [
    {
     "data": {
      "text/plain": [
       "rssd9001                    0\n",
       "rssd9999                    0\n",
       "bhc_avgtradingratio      1707\n",
       "treat_3_b_avg               0\n",
       "after_DFA_1                 0\n",
       "dep_roa1                 1736\n",
       "dep_leverage             1702\n",
       "dep_lnassets              660\n",
       "dep_creditrisk_total3     850\n",
       "dep_cir                  1585\n",
       "dep_depositratio           25\n",
       "dep_loans_REratio         850\n",
       "dep_liquidity            2600\n",
       "dep_cpp_bankquarter         0\n",
       "dtype: int64"
      ]
     },
     "execution_count": 112,
     "metadata": {},
     "output_type": "execute_result"
    }
   ],
   "source": [
    "data1.isnull().sum()"
   ]
  },
  {
   "cell_type": "markdown",
   "id": "6807fa87",
   "metadata": {},
   "source": [
    "按照公司分组进行KNN填充"
   ]
  },
  {
   "cell_type": "code",
   "execution_count": 117,
   "id": "44093eb1",
   "metadata": {
    "ExecuteTime": {
     "end_time": "2021-10-17T12:39:27.625327Z",
     "start_time": "2021-10-17T12:39:27.616352Z"
    }
   },
   "outputs": [],
   "source": [
    "from sklearn.impute import KNNImputer"
   ]
  },
  {
   "cell_type": "markdown",
   "id": "79c83be7",
   "metadata": {},
   "source": [
    "https://scikit-learn.org/stable/modules/generated/sklearn.impute.KNNImputer.html?highlight=knnimput#sklearn.impute.KNNImputer"
   ]
  },
  {
   "cell_type": "code",
   "execution_count": 148,
   "id": "a68416c9",
   "metadata": {
    "ExecuteTime": {
     "end_time": "2021-10-17T16:59:03.408627Z",
     "start_time": "2021-10-17T16:59:03.384710Z"
    }
   },
   "outputs": [
    {
     "data": {
      "text/html": [
       "<div>\n",
       "<style scoped>\n",
       "    .dataframe tbody tr th:only-of-type {\n",
       "        vertical-align: middle;\n",
       "    }\n",
       "\n",
       "    .dataframe tbody tr th {\n",
       "        vertical-align: top;\n",
       "    }\n",
       "\n",
       "    .dataframe thead th {\n",
       "        text-align: right;\n",
       "    }\n",
       "</style>\n",
       "<table border=\"1\" class=\"dataframe\">\n",
       "  <thead>\n",
       "    <tr style=\"text-align: right;\">\n",
       "      <th></th>\n",
       "      <th>rssd9999</th>\n",
       "      <th>bhc_avgtradingratio</th>\n",
       "      <th>treat_3_b_avg</th>\n",
       "      <th>after_DFA_1</th>\n",
       "      <th>dep_roa1</th>\n",
       "      <th>dep_leverage</th>\n",
       "      <th>dep_lnassets</th>\n",
       "      <th>dep_creditrisk_total3</th>\n",
       "      <th>dep_cir</th>\n",
       "      <th>dep_depositratio</th>\n",
       "      <th>dep_loans_REratio</th>\n",
       "      <th>dep_liquidity</th>\n",
       "      <th>dep_cpp_bankquarter</th>\n",
       "    </tr>\n",
       "    <tr>\n",
       "      <th>rssd9001</th>\n",
       "      <th></th>\n",
       "      <th></th>\n",
       "      <th></th>\n",
       "      <th></th>\n",
       "      <th></th>\n",
       "      <th></th>\n",
       "      <th></th>\n",
       "      <th></th>\n",
       "      <th></th>\n",
       "      <th></th>\n",
       "      <th></th>\n",
       "      <th></th>\n",
       "      <th></th>\n",
       "    </tr>\n",
       "  </thead>\n",
       "  <tbody>\n",
       "    <tr>\n",
       "      <th>1020180</th>\n",
       "      <td>20040930</td>\n",
       "      <td>0.0</td>\n",
       "      <td>0</td>\n",
       "      <td>0</td>\n",
       "      <td>0.002772</td>\n",
       "      <td>0.081957</td>\n",
       "      <td>15.601202</td>\n",
       "      <td>0.013304</td>\n",
       "      <td>0.463811</td>\n",
       "      <td>0.561805</td>\n",
       "      <td>0.593738</td>\n",
       "      <td>0.024337</td>\n",
       "      <td>0</td>\n",
       "    </tr>\n",
       "    <tr>\n",
       "      <th>1020180</th>\n",
       "      <td>20041231</td>\n",
       "      <td>0.0</td>\n",
       "      <td>0</td>\n",
       "      <td>0</td>\n",
       "      <td>0.003045</td>\n",
       "      <td>0.082480</td>\n",
       "      <td>15.630583</td>\n",
       "      <td>0.009732</td>\n",
       "      <td>0.456392</td>\n",
       "      <td>0.557617</td>\n",
       "      <td>0.601763</td>\n",
       "      <td>0.025446</td>\n",
       "      <td>0</td>\n",
       "    </tr>\n",
       "    <tr>\n",
       "      <th>1020180</th>\n",
       "      <td>20050331</td>\n",
       "      <td>0.0</td>\n",
       "      <td>0</td>\n",
       "      <td>0</td>\n",
       "      <td>0.002616</td>\n",
       "      <td>0.082074</td>\n",
       "      <td>15.644925</td>\n",
       "      <td>0.011830</td>\n",
       "      <td>0.444011</td>\n",
       "      <td>0.556980</td>\n",
       "      <td>0.600700</td>\n",
       "      <td>0.025153</td>\n",
       "      <td>0</td>\n",
       "    </tr>\n",
       "    <tr>\n",
       "      <th>1020180</th>\n",
       "      <td>20050630</td>\n",
       "      <td>0.0</td>\n",
       "      <td>0</td>\n",
       "      <td>0</td>\n",
       "      <td>0.002647</td>\n",
       "      <td>0.081712</td>\n",
       "      <td>15.679702</td>\n",
       "      <td>0.013654</td>\n",
       "      <td>0.433771</td>\n",
       "      <td>0.571642</td>\n",
       "      <td>0.601042</td>\n",
       "      <td>0.023670</td>\n",
       "      <td>0</td>\n",
       "    </tr>\n",
       "    <tr>\n",
       "      <th>1020180</th>\n",
       "      <td>20050930</td>\n",
       "      <td>0.0</td>\n",
       "      <td>0</td>\n",
       "      <td>0</td>\n",
       "      <td>0.002867</td>\n",
       "      <td>0.082944</td>\n",
       "      <td>15.661868</td>\n",
       "      <td>0.012456</td>\n",
       "      <td>0.400985</td>\n",
       "      <td>0.577408</td>\n",
       "      <td>0.581438</td>\n",
       "      <td>0.029793</td>\n",
       "      <td>0</td>\n",
       "    </tr>\n",
       "  </tbody>\n",
       "</table>\n",
       "</div>"
      ],
      "text/plain": [
       "          rssd9999  bhc_avgtradingratio  treat_3_b_avg  after_DFA_1  dep_roa1  \\\n",
       "rssd9001                                                                        \n",
       "1020180   20040930                  0.0              0            0  0.002772   \n",
       "1020180   20041231                  0.0              0            0  0.003045   \n",
       "1020180   20050331                  0.0              0            0  0.002616   \n",
       "1020180   20050630                  0.0              0            0  0.002647   \n",
       "1020180   20050930                  0.0              0            0  0.002867   \n",
       "\n",
       "          dep_leverage  dep_lnassets  dep_creditrisk_total3   dep_cir  \\\n",
       "rssd9001                                                                \n",
       "1020180       0.081957     15.601202               0.013304  0.463811   \n",
       "1020180       0.082480     15.630583               0.009732  0.456392   \n",
       "1020180       0.082074     15.644925               0.011830  0.444011   \n",
       "1020180       0.081712     15.679702               0.013654  0.433771   \n",
       "1020180       0.082944     15.661868               0.012456  0.400985   \n",
       "\n",
       "          dep_depositratio  dep_loans_REratio  dep_liquidity  \\\n",
       "rssd9001                                                       \n",
       "1020180           0.561805           0.593738       0.024337   \n",
       "1020180           0.557617           0.601763       0.025446   \n",
       "1020180           0.556980           0.600700       0.025153   \n",
       "1020180           0.571642           0.601042       0.023670   \n",
       "1020180           0.577408           0.581438       0.029793   \n",
       "\n",
       "          dep_cpp_bankquarter  \n",
       "rssd9001                       \n",
       "1020180                     0  \n",
       "1020180                     0  \n",
       "1020180                     0  \n",
       "1020180                     0  \n",
       "1020180                     0  "
      ]
     },
     "execution_count": 148,
     "metadata": {},
     "output_type": "execute_result"
    }
   ],
   "source": [
    "data2 = data1.set_index('rssd9001')\n",
    "data2.head()"
   ]
  },
  {
   "cell_type": "code",
   "execution_count": 149,
   "id": "f63a55da",
   "metadata": {
    "ExecuteTime": {
     "end_time": "2021-10-17T16:59:19.068942Z",
     "start_time": "2021-10-17T16:59:16.115582Z"
    }
   },
   "outputs": [],
   "source": [
    "temp = data2.copy()\n",
    "for i in temp.index.unique():\n",
    "    temp.loc[i] = imputer.fit_transform(temp.loc[i])\n",
    "df_fillna = temp"
   ]
  },
  {
   "cell_type": "code",
   "execution_count": 151,
   "id": "3116c22a",
   "metadata": {
    "ExecuteTime": {
     "end_time": "2021-10-17T16:59:47.571190Z",
     "start_time": "2021-10-17T16:59:47.542267Z"
    },
    "scrolled": true
   },
   "outputs": [
    {
     "data": {
      "text/html": [
       "<div>\n",
       "<style scoped>\n",
       "    .dataframe tbody tr th:only-of-type {\n",
       "        vertical-align: middle;\n",
       "    }\n",
       "\n",
       "    .dataframe tbody tr th {\n",
       "        vertical-align: top;\n",
       "    }\n",
       "\n",
       "    .dataframe thead th {\n",
       "        text-align: right;\n",
       "    }\n",
       "</style>\n",
       "<table border=\"1\" class=\"dataframe\">\n",
       "  <thead>\n",
       "    <tr style=\"text-align: right;\">\n",
       "      <th></th>\n",
       "      <th>rssd9999</th>\n",
       "      <th>bhc_avgtradingratio</th>\n",
       "      <th>treat_3_b_avg</th>\n",
       "      <th>after_DFA_1</th>\n",
       "      <th>dep_roa1</th>\n",
       "      <th>dep_leverage</th>\n",
       "      <th>dep_lnassets</th>\n",
       "      <th>dep_creditrisk_total3</th>\n",
       "      <th>dep_cir</th>\n",
       "      <th>dep_depositratio</th>\n",
       "      <th>dep_loans_REratio</th>\n",
       "      <th>dep_liquidity</th>\n",
       "      <th>dep_cpp_bankquarter</th>\n",
       "    </tr>\n",
       "    <tr>\n",
       "      <th>rssd9001</th>\n",
       "      <th></th>\n",
       "      <th></th>\n",
       "      <th></th>\n",
       "      <th></th>\n",
       "      <th></th>\n",
       "      <th></th>\n",
       "      <th></th>\n",
       "      <th></th>\n",
       "      <th></th>\n",
       "      <th></th>\n",
       "      <th></th>\n",
       "      <th></th>\n",
       "      <th></th>\n",
       "    </tr>\n",
       "  </thead>\n",
       "  <tbody>\n",
       "    <tr>\n",
       "      <th>1020180</th>\n",
       "      <td>20040930.0</td>\n",
       "      <td>0.0</td>\n",
       "      <td>0.0</td>\n",
       "      <td>0.0</td>\n",
       "      <td>0.002772</td>\n",
       "      <td>0.081957</td>\n",
       "      <td>15.601202</td>\n",
       "      <td>0.013304</td>\n",
       "      <td>0.463811</td>\n",
       "      <td>0.561805</td>\n",
       "      <td>0.593738</td>\n",
       "      <td>0.024337</td>\n",
       "      <td>0.0</td>\n",
       "    </tr>\n",
       "    <tr>\n",
       "      <th>1020180</th>\n",
       "      <td>20041231.0</td>\n",
       "      <td>0.0</td>\n",
       "      <td>0.0</td>\n",
       "      <td>0.0</td>\n",
       "      <td>0.003045</td>\n",
       "      <td>0.082480</td>\n",
       "      <td>15.630583</td>\n",
       "      <td>0.009732</td>\n",
       "      <td>0.456392</td>\n",
       "      <td>0.557617</td>\n",
       "      <td>0.601763</td>\n",
       "      <td>0.025446</td>\n",
       "      <td>0.0</td>\n",
       "    </tr>\n",
       "    <tr>\n",
       "      <th>1020180</th>\n",
       "      <td>20050331.0</td>\n",
       "      <td>0.0</td>\n",
       "      <td>0.0</td>\n",
       "      <td>0.0</td>\n",
       "      <td>0.002616</td>\n",
       "      <td>0.082074</td>\n",
       "      <td>15.644925</td>\n",
       "      <td>0.011830</td>\n",
       "      <td>0.444011</td>\n",
       "      <td>0.556980</td>\n",
       "      <td>0.600700</td>\n",
       "      <td>0.025153</td>\n",
       "      <td>0.0</td>\n",
       "    </tr>\n",
       "    <tr>\n",
       "      <th>1020180</th>\n",
       "      <td>20050630.0</td>\n",
       "      <td>0.0</td>\n",
       "      <td>0.0</td>\n",
       "      <td>0.0</td>\n",
       "      <td>0.002647</td>\n",
       "      <td>0.081712</td>\n",
       "      <td>15.679702</td>\n",
       "      <td>0.013654</td>\n",
       "      <td>0.433771</td>\n",
       "      <td>0.571642</td>\n",
       "      <td>0.601042</td>\n",
       "      <td>0.023670</td>\n",
       "      <td>0.0</td>\n",
       "    </tr>\n",
       "    <tr>\n",
       "      <th>1020180</th>\n",
       "      <td>20050930.0</td>\n",
       "      <td>0.0</td>\n",
       "      <td>0.0</td>\n",
       "      <td>0.0</td>\n",
       "      <td>0.002867</td>\n",
       "      <td>0.082944</td>\n",
       "      <td>15.661868</td>\n",
       "      <td>0.012456</td>\n",
       "      <td>0.400985</td>\n",
       "      <td>0.577408</td>\n",
       "      <td>0.581438</td>\n",
       "      <td>0.029793</td>\n",
       "      <td>0.0</td>\n",
       "    </tr>\n",
       "  </tbody>\n",
       "</table>\n",
       "</div>"
      ],
      "text/plain": [
       "            rssd9999  bhc_avgtradingratio  treat_3_b_avg  after_DFA_1  \\\n",
       "rssd9001                                                                \n",
       "1020180   20040930.0                  0.0            0.0          0.0   \n",
       "1020180   20041231.0                  0.0            0.0          0.0   \n",
       "1020180   20050331.0                  0.0            0.0          0.0   \n",
       "1020180   20050630.0                  0.0            0.0          0.0   \n",
       "1020180   20050930.0                  0.0            0.0          0.0   \n",
       "\n",
       "          dep_roa1  dep_leverage  dep_lnassets  dep_creditrisk_total3  \\\n",
       "rssd9001                                                                \n",
       "1020180   0.002772      0.081957     15.601202               0.013304   \n",
       "1020180   0.003045      0.082480     15.630583               0.009732   \n",
       "1020180   0.002616      0.082074     15.644925               0.011830   \n",
       "1020180   0.002647      0.081712     15.679702               0.013654   \n",
       "1020180   0.002867      0.082944     15.661868               0.012456   \n",
       "\n",
       "           dep_cir  dep_depositratio  dep_loans_REratio  dep_liquidity  \\\n",
       "rssd9001                                                                 \n",
       "1020180   0.463811          0.561805           0.593738       0.024337   \n",
       "1020180   0.456392          0.557617           0.601763       0.025446   \n",
       "1020180   0.444011          0.556980           0.600700       0.025153   \n",
       "1020180   0.433771          0.571642           0.601042       0.023670   \n",
       "1020180   0.400985          0.577408           0.581438       0.029793   \n",
       "\n",
       "          dep_cpp_bankquarter  \n",
       "rssd9001                       \n",
       "1020180                   0.0  \n",
       "1020180                   0.0  \n",
       "1020180                   0.0  \n",
       "1020180                   0.0  \n",
       "1020180                   0.0  "
      ]
     },
     "execution_count": 151,
     "metadata": {},
     "output_type": "execute_result"
    }
   ],
   "source": [
    "df_fillna.head()"
   ]
  },
  {
   "cell_type": "code",
   "execution_count": 152,
   "id": "21a6d757",
   "metadata": {
    "ExecuteTime": {
     "end_time": "2021-10-17T17:00:02.208340Z",
     "start_time": "2021-10-17T17:00:02.199329Z"
    }
   },
   "outputs": [
    {
     "data": {
      "text/plain": [
       "rssd9999                 0\n",
       "bhc_avgtradingratio      0\n",
       "treat_3_b_avg            0\n",
       "after_DFA_1              0\n",
       "dep_roa1                 0\n",
       "dep_leverage             0\n",
       "dep_lnassets             0\n",
       "dep_creditrisk_total3    0\n",
       "dep_cir                  0\n",
       "dep_depositratio         0\n",
       "dep_loans_REratio        0\n",
       "dep_liquidity            0\n",
       "dep_cpp_bankquarter      0\n",
       "dtype: int64"
      ]
     },
     "execution_count": 152,
     "metadata": {},
     "output_type": "execute_result"
    }
   ],
   "source": [
    "df_fillna.isnull().sum()"
   ]
  },
  {
   "cell_type": "code",
   "execution_count": 155,
   "id": "71077d51",
   "metadata": {
    "ExecuteTime": {
     "end_time": "2021-10-17T17:05:20.572194Z",
     "start_time": "2021-10-17T17:05:20.561207Z"
    }
   },
   "outputs": [
    {
     "data": {
      "text/plain": [
       "(25900, 13)"
      ]
     },
     "execution_count": 155,
     "metadata": {},
     "output_type": "execute_result"
    }
   ],
   "source": [
    "df_fillna.shape"
   ]
  },
  {
   "cell_type": "markdown",
   "id": "4ca2acd2",
   "metadata": {},
   "source": [
    "# 2004Q3"
   ]
  },
  {
   "cell_type": "code",
   "execution_count": 153,
   "id": "49542bdb",
   "metadata": {
    "ExecuteTime": {
     "end_time": "2021-10-17T17:03:38.899423Z",
     "start_time": "2021-10-17T17:03:38.867535Z"
    }
   },
   "outputs": [
    {
     "data": {
      "text/html": [
       "<div>\n",
       "<style scoped>\n",
       "    .dataframe tbody tr th:only-of-type {\n",
       "        vertical-align: middle;\n",
       "    }\n",
       "\n",
       "    .dataframe tbody tr th {\n",
       "        vertical-align: top;\n",
       "    }\n",
       "\n",
       "    .dataframe thead th {\n",
       "        text-align: right;\n",
       "    }\n",
       "</style>\n",
       "<table border=\"1\" class=\"dataframe\">\n",
       "  <thead>\n",
       "    <tr style=\"text-align: right;\">\n",
       "      <th></th>\n",
       "      <th>rssd9999</th>\n",
       "      <th>bhc_avgtradingratio</th>\n",
       "      <th>treat_3_b_avg</th>\n",
       "      <th>after_DFA_1</th>\n",
       "      <th>dep_roa1</th>\n",
       "      <th>dep_leverage</th>\n",
       "      <th>dep_lnassets</th>\n",
       "      <th>dep_creditrisk_total3</th>\n",
       "      <th>dep_cir</th>\n",
       "      <th>dep_depositratio</th>\n",
       "      <th>dep_loans_REratio</th>\n",
       "      <th>dep_liquidity</th>\n",
       "      <th>dep_cpp_bankquarter</th>\n",
       "    </tr>\n",
       "    <tr>\n",
       "      <th>rssd9001</th>\n",
       "      <th></th>\n",
       "      <th></th>\n",
       "      <th></th>\n",
       "      <th></th>\n",
       "      <th></th>\n",
       "      <th></th>\n",
       "      <th></th>\n",
       "      <th></th>\n",
       "      <th></th>\n",
       "      <th></th>\n",
       "      <th></th>\n",
       "      <th></th>\n",
       "      <th></th>\n",
       "    </tr>\n",
       "  </thead>\n",
       "  <tbody>\n",
       "    <tr>\n",
       "      <th>1020180</th>\n",
       "      <td>20040930.0</td>\n",
       "      <td>0.0</td>\n",
       "      <td>0.0</td>\n",
       "      <td>0.0</td>\n",
       "      <td>0.002772</td>\n",
       "      <td>0.081957</td>\n",
       "      <td>15.601202</td>\n",
       "      <td>0.013304</td>\n",
       "      <td>0.463811</td>\n",
       "      <td>0.561805</td>\n",
       "      <td>0.593738</td>\n",
       "      <td>0.024337</td>\n",
       "      <td>0.0</td>\n",
       "    </tr>\n",
       "    <tr>\n",
       "      <th>1020676</th>\n",
       "      <td>20040930.0</td>\n",
       "      <td>0.0</td>\n",
       "      <td>0.0</td>\n",
       "      <td>0.0</td>\n",
       "      <td>0.001248</td>\n",
       "      <td>0.048543</td>\n",
       "      <td>13.333773</td>\n",
       "      <td>0.038585</td>\n",
       "      <td>0.670261</td>\n",
       "      <td>0.531987</td>\n",
       "      <td>0.665179</td>\n",
       "      <td>0.027010</td>\n",
       "      <td>0.0</td>\n",
       "    </tr>\n",
       "    <tr>\n",
       "      <th>1020902</th>\n",
       "      <td>20040930.0</td>\n",
       "      <td>0.0</td>\n",
       "      <td>0.0</td>\n",
       "      <td>0.0</td>\n",
       "      <td>0.002235</td>\n",
       "      <td>0.081153</td>\n",
       "      <td>16.306637</td>\n",
       "      <td>0.023099</td>\n",
       "      <td>0.615831</td>\n",
       "      <td>0.763232</td>\n",
       "      <td>0.412309</td>\n",
       "      <td>0.045295</td>\n",
       "      <td>0.0</td>\n",
       "    </tr>\n",
       "    <tr>\n",
       "      <th>1021682</th>\n",
       "      <td>20040930.0</td>\n",
       "      <td>0.0</td>\n",
       "      <td>0.0</td>\n",
       "      <td>0.0</td>\n",
       "      <td>0.005972</td>\n",
       "      <td>0.065503</td>\n",
       "      <td>13.029423</td>\n",
       "      <td>0.007927</td>\n",
       "      <td>0.436232</td>\n",
       "      <td>0.635626</td>\n",
       "      <td>0.669960</td>\n",
       "      <td>0.050583</td>\n",
       "      <td>0.0</td>\n",
       "    </tr>\n",
       "    <tr>\n",
       "      <th>1022764</th>\n",
       "      <td>20040930.0</td>\n",
       "      <td>0.0</td>\n",
       "      <td>0.0</td>\n",
       "      <td>0.0</td>\n",
       "      <td>0.002161</td>\n",
       "      <td>0.106747</td>\n",
       "      <td>15.344308</td>\n",
       "      <td>0.013071</td>\n",
       "      <td>0.536416</td>\n",
       "      <td>0.478529</td>\n",
       "      <td>0.753218</td>\n",
       "      <td>0.036319</td>\n",
       "      <td>0.0</td>\n",
       "    </tr>\n",
       "  </tbody>\n",
       "</table>\n",
       "</div>"
      ],
      "text/plain": [
       "            rssd9999  bhc_avgtradingratio  treat_3_b_avg  after_DFA_1  \\\n",
       "rssd9001                                                                \n",
       "1020180   20040930.0                  0.0            0.0          0.0   \n",
       "1020676   20040930.0                  0.0            0.0          0.0   \n",
       "1020902   20040930.0                  0.0            0.0          0.0   \n",
       "1021682   20040930.0                  0.0            0.0          0.0   \n",
       "1022764   20040930.0                  0.0            0.0          0.0   \n",
       "\n",
       "          dep_roa1  dep_leverage  dep_lnassets  dep_creditrisk_total3  \\\n",
       "rssd9001                                                                \n",
       "1020180   0.002772      0.081957     15.601202               0.013304   \n",
       "1020676   0.001248      0.048543     13.333773               0.038585   \n",
       "1020902   0.002235      0.081153     16.306637               0.023099   \n",
       "1021682   0.005972      0.065503     13.029423               0.007927   \n",
       "1022764   0.002161      0.106747     15.344308               0.013071   \n",
       "\n",
       "           dep_cir  dep_depositratio  dep_loans_REratio  dep_liquidity  \\\n",
       "rssd9001                                                                 \n",
       "1020180   0.463811          0.561805           0.593738       0.024337   \n",
       "1020676   0.670261          0.531987           0.665179       0.027010   \n",
       "1020902   0.615831          0.763232           0.412309       0.045295   \n",
       "1021682   0.436232          0.635626           0.669960       0.050583   \n",
       "1022764   0.536416          0.478529           0.753218       0.036319   \n",
       "\n",
       "          dep_cpp_bankquarter  \n",
       "rssd9001                       \n",
       "1020180                   0.0  \n",
       "1020676                   0.0  \n",
       "1020902                   0.0  \n",
       "1021682                   0.0  \n",
       "1022764                   0.0  "
      ]
     },
     "execution_count": 153,
     "metadata": {},
     "output_type": "execute_result"
    }
   ],
   "source": [
    "#2004Q3\n",
    "data_2004q3 = df_fillna[df_fillna['rssd9999'] == 20040930]\n",
    "data_2004q3.head()"
   ]
  },
  {
   "cell_type": "code",
   "execution_count": 154,
   "id": "fde316ee",
   "metadata": {
    "ExecuteTime": {
     "end_time": "2021-10-17T17:03:52.793624Z",
     "start_time": "2021-10-17T17:03:52.774070Z"
    }
   },
   "outputs": [
    {
     "data": {
      "text/plain": [
       "(647, 13)"
      ]
     },
     "execution_count": 154,
     "metadata": {},
     "output_type": "execute_result"
    }
   ],
   "source": [
    "data_2004q3.shape"
   ]
  },
  {
   "cell_type": "markdown",
   "id": "a6cc3a08",
   "metadata": {},
   "source": [
    "# Logistic Regression"
   ]
  },
  {
   "cell_type": "code",
   "execution_count": 2,
   "id": "eb11957e",
   "metadata": {
    "ExecuteTime": {
     "end_time": "2021-10-17T07:19:31.961108Z",
     "start_time": "2021-10-17T07:19:31.954130Z"
    }
   },
   "outputs": [],
   "source": [
    "from sklearn.linear_model import LogisticRegression"
   ]
  },
  {
   "cell_type": "code",
   "execution_count": 161,
   "id": "f2901377",
   "metadata": {
    "ExecuteTime": {
     "end_time": "2021-10-17T17:07:27.776311Z",
     "start_time": "2021-10-17T17:07:26.495475Z"
    }
   },
   "outputs": [
    {
     "data": {
      "text/plain": [
       "LogisticRegression()"
      ]
     },
     "execution_count": 161,
     "metadata": {},
     "output_type": "execute_result"
    }
   ],
   "source": [
    "y = data_2004q3[['treat_3_b_avg']]\n",
    "x = data_2004q3.iloc[:,4:]\n",
    "\n",
    "lr = LogisticRegression()\n",
    "lr.fit(x,y)"
   ]
  },
  {
   "cell_type": "code",
   "execution_count": 164,
   "id": "17c89548",
   "metadata": {
    "ExecuteTime": {
     "end_time": "2021-10-17T17:08:28.489994Z",
     "start_time": "2021-10-17T17:08:28.467057Z"
    }
   },
   "outputs": [
    {
     "data": {
      "text/plain": [
       "(647, 2)"
      ]
     },
     "execution_count": 164,
     "metadata": {},
     "output_type": "execute_result"
    }
   ],
   "source": [
    "lr.predict_proba(x).shape"
   ]
  }
 ],
 "metadata": {
  "hide_input": false,
  "kernelspec": {
   "display_name": "Python 3",
   "language": "python",
   "name": "python3"
  },
  "language_info": {
   "codemirror_mode": {
    "name": "ipython",
    "version": 3
   },
   "file_extension": ".py",
   "mimetype": "text/x-python",
   "name": "python",
   "nbconvert_exporter": "python",
   "pygments_lexer": "ipython3",
   "version": "3.8.8"
  },
  "toc": {
   "base_numbering": 1,
   "nav_menu": {},
   "number_sections": true,
   "sideBar": true,
   "skip_h1_title": false,
   "title_cell": "Table of Contents",
   "title_sidebar": "Contents",
   "toc_cell": false,
   "toc_position": {
    "height": "calc(100% - 180px)",
    "left": "10px",
    "top": "150px",
    "width": "196.267px"
   },
   "toc_section_display": true,
   "toc_window_display": true
  }
 },
 "nbformat": 4,
 "nbformat_minor": 5
}
